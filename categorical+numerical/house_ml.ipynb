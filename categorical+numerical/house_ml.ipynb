{
 "cells": [
  {
   "cell_type": "code",
   "execution_count": 1,
   "metadata": {},
   "outputs": [],
   "source": [
    "import pandas as pd\n",
    "import numpy as np\n",
    "\n",
    "data = \"/Users/alexandreribeiro/Downloads/df_cleaned.csv\"\n",
    "\n",
    "df = pd.read_csv(data)"
   ]
  },
  {
   "cell_type": "code",
   "execution_count": 3,
   "metadata": {},
   "outputs": [
    {
     "name": "stdout",
     "output_type": "stream",
     "text": [
      "<class 'pandas.core.frame.DataFrame'>\n",
      "RangeIndex: 4876 entries, 0 to 4875\n",
      "Data columns (total 18 columns):\n",
      " #   Column                                Non-Null Count  Dtype \n",
      "---  ------                                --------------  ----- \n",
      " 0   Unnamed: 0                            4876 non-null   int64 \n",
      " 1   city                                  4876 non-null   object\n",
      " 2   price                                 4876 non-null   int64 \n",
      " 3   lot_size_(m2)                         4876 non-null   int64 \n",
      " 4   living_space_size_(m2)                4876 non-null   int64 \n",
      " 5   build_year                            4876 non-null   int64 \n",
      " 6   build_type                            4876 non-null   object\n",
      " 7   house_type                            4876 non-null   object\n",
      " 8   house_type_detail                     4876 non-null   object\n",
      " 9   roof                                  4876 non-null   object\n",
      " 10  rooms                                 4876 non-null   int64 \n",
      " 11  toilet                                4876 non-null   int64 \n",
      " 12  bathroom                              4876 non-null   int64 \n",
      " 13  floors                                4876 non-null   object\n",
      " 14  energy_label                          4876 non-null   object\n",
      " 15  position                              4876 non-null   object\n",
      " 16  garden                                4876 non-null   object\n",
      " 17  estimated_neighbourhood_price_per_m2  4876 non-null   int64 \n",
      "dtypes: int64(9), object(9)\n",
      "memory usage: 685.8+ KB\n"
     ]
    }
   ],
   "source": [
    "df.info()"
   ]
  },
  {
   "cell_type": "code",
   "execution_count": 5,
   "metadata": {},
   "outputs": [],
   "source": [
    "# Importing relevant libraries\n",
    "\n",
    "from sklearn.model_selection import train_test_split\n",
    "from sklearn.preprocessing import MinMaxScaler, OneHotEncoder\n",
    "from sklearn.compose import ColumnTransformer\n",
    "from sklearn.pipeline import Pipeline\n",
    "from sklearn.neighbors import KNeighborsRegressor\n",
    "from sklearn.metrics import mean_squared_error"
   ]
  },
  {
   "cell_type": "code",
   "execution_count": 7,
   "metadata": {},
   "outputs": [],
   "source": [
    "# Identify features and target variable\n",
    "\n",
    "X = df.drop(columns=['price'])\n",
    "y = df['price']\n",
    "\n",
    "# Split the data into training and testing sets\n",
    "\n",
    "X_train, X_test, y_train, y_test = train_test_split(X, y, test_size=0.2, random_state=42)"
   ]
  },
  {
   "cell_type": "code",
   "execution_count": 8,
   "metadata": {},
   "outputs": [],
   "source": [
    "# Preprocessing pipelines for numerical and categorical features\n",
    "\n",
    "numerical_features = ['lot_size_(m2)', 'living_space_size_(m2)', 'build_year', 'rooms', 'toilet', 'bathroom', 'estimated_neighbourhood_price_per_m2']\n",
    "categorical_features = ['city', 'build_type', 'house_type', 'house_type_detail', 'roof', 'floors', 'energy_label', 'position', 'garden']\n"
   ]
  },
  {
   "cell_type": "code",
   "execution_count": 9,
   "metadata": {},
   "outputs": [],
   "source": [
    "numerical_pipeline = Pipeline(steps=[\n",
    "    ('scaler', MinMaxScaler())\n",
    "])\n",
    "\n",
    "categorical_pipeline = Pipeline(steps=[\n",
    "    ('onehot', OneHotEncoder(handle_unknown='ignore'))\n",
    "])\n",
    "\n",
    "preprocessor = ColumnTransformer(\n",
    "    transformers=[\n",
    "        ('num', numerical_pipeline, numerical_features),\n",
    "        ('cat', categorical_pipeline, categorical_features)\n",
    "    ])"
   ]
  },
  {
   "cell_type": "code",
   "execution_count": 10,
   "metadata": {},
   "outputs": [
    {
     "name": "stdout",
     "output_type": "stream",
     "text": [
      "Mean Squared Error: 44970808564.167755\n"
     ]
    }
   ],
   "source": [
    "# Append KNN regressor to preprocessing pipeline\n",
    "\n",
    "model = Pipeline(steps=[('preprocessor', preprocessor),\n",
    "                        ('regressor', KNeighborsRegressor(n_neighbors=5))])\n",
    "\n",
    "# Train the model\n",
    "\n",
    "model.fit(X_train, y_train)\n",
    "\n",
    "# Predict on test data\n",
    "\n",
    "y_pred = model.predict(X_test)\n",
    "\n",
    "# Evaluate the model\n",
    "\n",
    "mse = mean_squared_error(y_test, y_pred)\n",
    "print(f'Mean Squared Error: {mse}')"
   ]
  }
 ],
 "metadata": {
  "kernelspec": {
   "display_name": "env_test",
   "language": "python",
   "name": "python3"
  },
  "language_info": {
   "codemirror_mode": {
    "name": "ipython",
    "version": 3
   },
   "file_extension": ".py",
   "mimetype": "text/x-python",
   "name": "python",
   "nbconvert_exporter": "python",
   "pygments_lexer": "ipython3",
   "version": "3.11.9"
  }
 },
 "nbformat": 4,
 "nbformat_minor": 2
}
